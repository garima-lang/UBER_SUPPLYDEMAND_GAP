{
 "cells": [
  {
   "cell_type": "markdown",
   "metadata": {
    "id": "BJU8OOXLx92P"
   },
   "source": [
    "## **PROJECT NAME:UBER SUPPLY DEMAND GAP**"
   ]
  },
  {
   "cell_type": "markdown",
   "metadata": {
    "id": "mPGIc2NBylhw"
   },
   "source": [
    "### **PROJECT TYPE:EDA**"
   ]
  },
  {
   "cell_type": "markdown",
   "metadata": {
    "id": "wyMGx15vy1mZ"
   },
   "source": [
    "### MEMBER NAME:GARIMA NEGI BATCH:1st JULY\n",
    "\n",
    "\n",
    "\n",
    "\n",
    "\n"
   ]
  },
  {
   "cell_type": "markdown",
   "metadata": {
    "id": "hJ5nTHRhy8Bi"
   },
   "source": [
    "## PROJECT SUMMARY"
   ]
  },
  {
   "cell_type": "markdown",
   "metadata": {
    "id": "2r4TMUuE-Fyp"
   },
   "source": [
    "he dataset captures Uber ride requests over a span of several days in July 2016, including key attributes such as request ID, pickup point, driver ID, request and drop timestamps, and trip status. All entries in the provided sample are marked as “Trip Completed,” indicating successful ride fulfillment. The data offers valuable insights into operational patterns, rider behavior, and potential areas for optimization\n",
    "\n",
    "A clear trend emerges when analyzing request timestamps: ride demand is concentrated during two peak periods—early morning (5:00 AM to 10:00 AM) and late afternoon to evening (5:00 PM to 9:00 PM). These time windows align with typical commuter behavior, suggesting that Uber usage is heavily influenced by work-related travel. Morning demand is particularly strong from city pickup points, while evening demand is more prominent from the airport, likely due to flight arrivals and business travel.\n",
    "\n",
    "The dataset includes two primary pickup points: “City” and “Airport.” Airport pickups account for a slightly higher volume of requests, especially during the evening hours. This pattern implies that Uber plays a critical role in airport transportation, possibly filling gaps left by traditional taxi services. City pickups, on the other hand, are more evenly distributed throughout the day but peak in the morning, consistent with office-hour commutes.\n",
    "\n"
   ]
  },
  {
   "cell_type": "markdown",
   "metadata": {
    "id": "IWzy7a05-MZt"
   },
   "source": [
    "# **GitHub Link -**"
   ]
  },
  {
   "cell_type": "markdown",
   "metadata": {
    "id": "ubDjyobk-VWM"
   },
   "source": [
    "# **Problem Statement**"
   ]
  },
  {
   "cell_type": "markdown",
   "metadata": {
    "id": "UlEM8oXU-a5m"
   },
   "source": [
    "The problem statement is to identify the demand -supply mismatch.Identify peak hours and locations where Uber experiences a mismatch between rider demand and driver availability, and recommend strategies to optimize driver allocation"
   ]
  },
  {
   "cell_type": "markdown",
   "metadata": {
    "id": "xjAxP_W3-l-2"
   },
   "source": [
    "#### **Define Your Business Objective?**####"
   ]
  },
  {
   "cell_type": "markdown",
   "metadata": {
    "id": "v_FbwQiy-nKt"
   },
   "source": [
    "To ensure consistent service availability by identifying high-demand time slots and locations, and reallocating drivers accordingly.Reduces cancellations and “No Cars Available” incidents.\n",
    "To minimize trip delays and improve route planning by analyzing trip durations across different times and pickup points.\n",
    "\n",
    "To improve the reliability of Uber services by identifying patterns in trip cancellations or unfulfilled requests.\n",
    "\n",
    "*Identify peak demand hours and their impact on trip fulfillment.\n",
    "*Understand patterns in ride cancellations and driver unavailability.\n",
    "*Analyze pickup point behavior (City vs. Airport).\n",
    "*Highlight inefficiencies in driver allocation and trip completion.\n",
    "*Offer data-backed suggestions to optimize Uber’s service reliability.\n",
    "\n"
   ]
  },
  {
   "cell_type": "markdown",
   "metadata": {
    "id": "b8AE6e7nAAme"
   },
   "source": [
    "IMPORT LIBRARIES"
   ]
  },
  {
   "cell_type": "code",
   "execution_count": null,
   "metadata": {
    "id": "b42Ie1Fy6wO8"
   },
   "outputs": [],
   "source": [
    "import numpy as np\n",
    "\n"
   ]
  },
  {
   "cell_type": "markdown",
   "metadata": {
    "id": "4FV6cqjjx67o"
   },
   "source": []
  },
  {
   "cell_type": "code",
   "execution_count": null,
   "metadata": {
    "id": "RiqHOs-6v0rP"
   },
   "outputs": [],
   "source": []
  },
  {
   "cell_type": "code",
   "execution_count": null,
   "metadata": {
    "id": "sC5mxoU5v2p0"
   },
   "outputs": [],
   "source": []
  },
  {
   "cell_type": "code",
   "execution_count": null,
   "metadata": {
    "id": "tRhRxlSv7AKg"
   },
   "outputs": [],
   "source": [
    "import numpy as np\n",
    "\n"
   ]
  },
  {
   "cell_type": "code",
   "execution_count": null,
   "metadata": {
    "id": "yPI66kje8wwH"
   },
   "outputs": [],
   "source": [
    "import pandas as pd\n",
    "import matplotlib.pyplot as plt\n",
    "df_csv=pd.read_csv('Uber_Request.csv')"
   ]
  },
  {
   "cell_type": "markdown",
   "metadata": {
    "id": "SWHIuKvTAdWA"
   },
   "source": [
    "### Dataset First View"
   ]
  },
  {
   "cell_type": "code",
   "execution_count": null,
   "metadata": {
    "colab": {
     "base_uri": "https://localhost:8080/",
     "height": 206
    },
    "executionInfo": {
     "elapsed": 307,
     "status": "ok",
     "timestamp": 1752079386629,
     "user": {
      "displayName": "Garima Negi",
      "userId": "00608128656584098805"
     },
     "user_tz": -330
    },
    "id": "e82SrSef9P8w",
    "outputId": "ad598976-ae5e-4c47-f284-c98c3f59a1c0"
   },
   "outputs": [
    {
     "data": {
      "application/vnd.google.colaboratory.intrinsic+json": {
       "summary": "{\n  \"name\": \"df_csv\",\n  \"rows\": 6745,\n  \"fields\": [\n    {\n      \"column\": \"Request id\",\n      \"properties\": {\n        \"dtype\": \"number\",\n        \"std\": 1955,\n        \"min\": 1,\n        \"max\": 6766,\n        \"num_unique_values\": 6745,\n        \"samples\": [\n          2761,\n          1342,\n          44\n        ],\n        \"semantic_type\": \"\",\n        \"description\": \"\"\n      }\n    },\n    {\n      \"column\": \"Pickup point\",\n      \"properties\": {\n        \"dtype\": \"category\",\n        \"num_unique_values\": 2,\n        \"samples\": [\n          \"City\",\n          \"Airport\"\n        ],\n        \"semantic_type\": \"\",\n        \"description\": \"\"\n      }\n    },\n    {\n      \"column\": \"Driver id\",\n      \"properties\": {\n        \"dtype\": \"number\",\n        \"std\": 99,\n        \"min\": 0,\n        \"max\": 300,\n        \"num_unique_values\": 301,\n        \"samples\": [\n          178,\n          290\n        ],\n        \"semantic_type\": \"\",\n        \"description\": \"\"\n      }\n    },\n    {\n      \"column\": \"Status\",\n      \"properties\": {\n        \"dtype\": \"category\",\n        \"num_unique_values\": 3,\n        \"samples\": [\n          \"Trip Completed\",\n          \"Cancelled\"\n        ],\n        \"semantic_type\": \"\",\n        \"description\": \"\"\n      }\n    },\n    {\n      \"column\": \"Request_day\",\n      \"properties\": {\n        \"dtype\": \"category\",\n        \"num_unique_values\": 5,\n        \"samples\": [\n          \"12/7/2016\",\n          \"15/07/16\"\n        ],\n        \"semantic_type\": \"\",\n        \"description\": \"\"\n      }\n    },\n    {\n      \"column\": \"Request_time\",\n      \"properties\": {\n        \"dtype\": \"object\",\n        \"num_unique_values\": 1340,\n        \"samples\": [\n          \"4:41\",\n          \"7:46\"\n        ],\n        \"semantic_type\": \"\",\n        \"description\": \"\"\n      }\n    },\n    {\n      \"column\": \"Drop_day\",\n      \"properties\": {\n        \"dtype\": \"category\",\n        \"num_unique_values\": 7,\n        \"samples\": [\n          \"11/7/2016\",\n          \"12/7/2016\"\n        ],\n        \"semantic_type\": \"\",\n        \"description\": \"\"\n      }\n    },\n    {\n      \"column\": \"Drop_time\",\n      \"properties\": {\n        \"dtype\": \"object\",\n        \"num_unique_values\": 1157,\n        \"samples\": [\n          \"11:34\",\n          \"4:48\"\n        ],\n        \"semantic_type\": \"\",\n        \"description\": \"\"\n      }\n    }\n  ]\n}",
       "type": "dataframe",
       "variable_name": "df_csv"
      },
      "text/html": [
       "\n",
       "  <div id=\"df-dd23269e-7e87-43b0-be73-72240f068c54\" class=\"colab-df-container\">\n",
       "    <div>\n",
       "<style scoped>\n",
       "    .dataframe tbody tr th:only-of-type {\n",
       "        vertical-align: middle;\n",
       "    }\n",
       "\n",
       "    .dataframe tbody tr th {\n",
       "        vertical-align: top;\n",
       "    }\n",
       "\n",
       "    .dataframe thead th {\n",
       "        text-align: right;\n",
       "    }\n",
       "</style>\n",
       "<table border=\"1\" class=\"dataframe\">\n",
       "  <thead>\n",
       "    <tr style=\"text-align: right;\">\n",
       "      <th></th>\n",
       "      <th>Request id</th>\n",
       "      <th>Pickup point</th>\n",
       "      <th>Driver id</th>\n",
       "      <th>Status</th>\n",
       "      <th>Request_day</th>\n",
       "      <th>Request_time</th>\n",
       "      <th>Drop_day</th>\n",
       "      <th>Drop_time</th>\n",
       "    </tr>\n",
       "  </thead>\n",
       "  <tbody>\n",
       "    <tr>\n",
       "      <th>0</th>\n",
       "      <td>619</td>\n",
       "      <td>Airport</td>\n",
       "      <td>1</td>\n",
       "      <td>Trip Completed</td>\n",
       "      <td>11/7/2016</td>\n",
       "      <td>11:51</td>\n",
       "      <td>11/7/2016</td>\n",
       "      <td>1:00</td>\n",
       "    </tr>\n",
       "    <tr>\n",
       "      <th>1</th>\n",
       "      <td>867</td>\n",
       "      <td>Airport</td>\n",
       "      <td>1</td>\n",
       "      <td>Trip Completed</td>\n",
       "      <td>11/7/2016</td>\n",
       "      <td>5:57</td>\n",
       "      <td>11/7/2016</td>\n",
       "      <td>6:47</td>\n",
       "    </tr>\n",
       "    <tr>\n",
       "      <th>2</th>\n",
       "      <td>1807</td>\n",
       "      <td>City</td>\n",
       "      <td>1</td>\n",
       "      <td>Trip Completed</td>\n",
       "      <td>12/7/2016</td>\n",
       "      <td>9:17</td>\n",
       "      <td>12/7/2016</td>\n",
       "      <td>9:58</td>\n",
       "    </tr>\n",
       "    <tr>\n",
       "      <th>3</th>\n",
       "      <td>2532</td>\n",
       "      <td>Airport</td>\n",
       "      <td>1</td>\n",
       "      <td>Trip Completed</td>\n",
       "      <td>12/7/2016</td>\n",
       "      <td>9:08</td>\n",
       "      <td>12/7/2016</td>\n",
       "      <td>10:03</td>\n",
       "    </tr>\n",
       "    <tr>\n",
       "      <th>4</th>\n",
       "      <td>3112</td>\n",
       "      <td>City</td>\n",
       "      <td>1</td>\n",
       "      <td>Trip Completed</td>\n",
       "      <td>13/07/16</td>\n",
       "      <td>8:33</td>\n",
       "      <td>13/07/16</td>\n",
       "      <td>9:25</td>\n",
       "    </tr>\n",
       "  </tbody>\n",
       "</table>\n",
       "</div>\n",
       "    <div class=\"colab-df-buttons\">\n",
       "\n",
       "  <div class=\"colab-df-container\">\n",
       "    <button class=\"colab-df-convert\" onclick=\"convertToInteractive('df-dd23269e-7e87-43b0-be73-72240f068c54')\"\n",
       "            title=\"Convert this dataframe to an interactive table.\"\n",
       "            style=\"display:none;\">\n",
       "\n",
       "  <svg xmlns=\"http://www.w3.org/2000/svg\" height=\"24px\" viewBox=\"0 -960 960 960\">\n",
       "    <path d=\"M120-120v-720h720v720H120Zm60-500h600v-160H180v160Zm220 220h160v-160H400v160Zm0 220h160v-160H400v160ZM180-400h160v-160H180v160Zm440 0h160v-160H620v160ZM180-180h160v-160H180v160Zm440 0h160v-160H620v160Z\"/>\n",
       "  </svg>\n",
       "    </button>\n",
       "\n",
       "  <style>\n",
       "    .colab-df-container {\n",
       "      display:flex;\n",
       "      gap: 12px;\n",
       "    }\n",
       "\n",
       "    .colab-df-convert {\n",
       "      background-color: #E8F0FE;\n",
       "      border: none;\n",
       "      border-radius: 50%;\n",
       "      cursor: pointer;\n",
       "      display: none;\n",
       "      fill: #1967D2;\n",
       "      height: 32px;\n",
       "      padding: 0 0 0 0;\n",
       "      width: 32px;\n",
       "    }\n",
       "\n",
       "    .colab-df-convert:hover {\n",
       "      background-color: #E2EBFA;\n",
       "      box-shadow: 0px 1px 2px rgba(60, 64, 67, 0.3), 0px 1px 3px 1px rgba(60, 64, 67, 0.15);\n",
       "      fill: #174EA6;\n",
       "    }\n",
       "\n",
       "    .colab-df-buttons div {\n",
       "      margin-bottom: 4px;\n",
       "    }\n",
       "\n",
       "    [theme=dark] .colab-df-convert {\n",
       "      background-color: #3B4455;\n",
       "      fill: #D2E3FC;\n",
       "    }\n",
       "\n",
       "    [theme=dark] .colab-df-convert:hover {\n",
       "      background-color: #434B5C;\n",
       "      box-shadow: 0px 1px 3px 1px rgba(0, 0, 0, 0.15);\n",
       "      filter: drop-shadow(0px 1px 2px rgba(0, 0, 0, 0.3));\n",
       "      fill: #FFFFFF;\n",
       "    }\n",
       "  </style>\n",
       "\n",
       "    <script>\n",
       "      const buttonEl =\n",
       "        document.querySelector('#df-dd23269e-7e87-43b0-be73-72240f068c54 button.colab-df-convert');\n",
       "      buttonEl.style.display =\n",
       "        google.colab.kernel.accessAllowed ? 'block' : 'none';\n",
       "\n",
       "      async function convertToInteractive(key) {\n",
       "        const element = document.querySelector('#df-dd23269e-7e87-43b0-be73-72240f068c54');\n",
       "        const dataTable =\n",
       "          await google.colab.kernel.invokeFunction('convertToInteractive',\n",
       "                                                    [key], {});\n",
       "        if (!dataTable) return;\n",
       "\n",
       "        const docLinkHtml = 'Like what you see? Visit the ' +\n",
       "          '<a target=\"_blank\" href=https://colab.research.google.com/notebooks/data_table.ipynb>data table notebook</a>'\n",
       "          + ' to learn more about interactive tables.';\n",
       "        element.innerHTML = '';\n",
       "        dataTable['output_type'] = 'display_data';\n",
       "        await google.colab.output.renderOutput(dataTable, element);\n",
       "        const docLink = document.createElement('div');\n",
       "        docLink.innerHTML = docLinkHtml;\n",
       "        element.appendChild(docLink);\n",
       "      }\n",
       "    </script>\n",
       "  </div>\n",
       "\n",
       "\n",
       "    <div id=\"df-fc81d705-992a-4bff-a3f6-f1f66456c37f\">\n",
       "      <button class=\"colab-df-quickchart\" onclick=\"quickchart('df-fc81d705-992a-4bff-a3f6-f1f66456c37f')\"\n",
       "                title=\"Suggest charts\"\n",
       "                style=\"display:none;\">\n",
       "\n",
       "<svg xmlns=\"http://www.w3.org/2000/svg\" height=\"24px\"viewBox=\"0 0 24 24\"\n",
       "     width=\"24px\">\n",
       "    <g>\n",
       "        <path d=\"M19 3H5c-1.1 0-2 .9-2 2v14c0 1.1.9 2 2 2h14c1.1 0 2-.9 2-2V5c0-1.1-.9-2-2-2zM9 17H7v-7h2v7zm4 0h-2V7h2v10zm4 0h-2v-4h2v4z\"/>\n",
       "    </g>\n",
       "</svg>\n",
       "      </button>\n",
       "\n",
       "<style>\n",
       "  .colab-df-quickchart {\n",
       "      --bg-color: #E8F0FE;\n",
       "      --fill-color: #1967D2;\n",
       "      --hover-bg-color: #E2EBFA;\n",
       "      --hover-fill-color: #174EA6;\n",
       "      --disabled-fill-color: #AAA;\n",
       "      --disabled-bg-color: #DDD;\n",
       "  }\n",
       "\n",
       "  [theme=dark] .colab-df-quickchart {\n",
       "      --bg-color: #3B4455;\n",
       "      --fill-color: #D2E3FC;\n",
       "      --hover-bg-color: #434B5C;\n",
       "      --hover-fill-color: #FFFFFF;\n",
       "      --disabled-bg-color: #3B4455;\n",
       "      --disabled-fill-color: #666;\n",
       "  }\n",
       "\n",
       "  .colab-df-quickchart {\n",
       "    background-color: var(--bg-color);\n",
       "    border: none;\n",
       "    border-radius: 50%;\n",
       "    cursor: pointer;\n",
       "    display: none;\n",
       "    fill: var(--fill-color);\n",
       "    height: 32px;\n",
       "    padding: 0;\n",
       "    width: 32px;\n",
       "  }\n",
       "\n",
       "  .colab-df-quickchart:hover {\n",
       "    background-color: var(--hover-bg-color);\n",
       "    box-shadow: 0 1px 2px rgba(60, 64, 67, 0.3), 0 1px 3px 1px rgba(60, 64, 67, 0.15);\n",
       "    fill: var(--button-hover-fill-color);\n",
       "  }\n",
       "\n",
       "  .colab-df-quickchart-complete:disabled,\n",
       "  .colab-df-quickchart-complete:disabled:hover {\n",
       "    background-color: var(--disabled-bg-color);\n",
       "    fill: var(--disabled-fill-color);\n",
       "    box-shadow: none;\n",
       "  }\n",
       "\n",
       "  .colab-df-spinner {\n",
       "    border: 2px solid var(--fill-color);\n",
       "    border-color: transparent;\n",
       "    border-bottom-color: var(--fill-color);\n",
       "    animation:\n",
       "      spin 1s steps(1) infinite;\n",
       "  }\n",
       "\n",
       "  @keyframes spin {\n",
       "    0% {\n",
       "      border-color: transparent;\n",
       "      border-bottom-color: var(--fill-color);\n",
       "      border-left-color: var(--fill-color);\n",
       "    }\n",
       "    20% {\n",
       "      border-color: transparent;\n",
       "      border-left-color: var(--fill-color);\n",
       "      border-top-color: var(--fill-color);\n",
       "    }\n",
       "    30% {\n",
       "      border-color: transparent;\n",
       "      border-left-color: var(--fill-color);\n",
       "      border-top-color: var(--fill-color);\n",
       "      border-right-color: var(--fill-color);\n",
       "    }\n",
       "    40% {\n",
       "      border-color: transparent;\n",
       "      border-right-color: var(--fill-color);\n",
       "      border-top-color: var(--fill-color);\n",
       "    }\n",
       "    60% {\n",
       "      border-color: transparent;\n",
       "      border-right-color: var(--fill-color);\n",
       "    }\n",
       "    80% {\n",
       "      border-color: transparent;\n",
       "      border-right-color: var(--fill-color);\n",
       "      border-bottom-color: var(--fill-color);\n",
       "    }\n",
       "    90% {\n",
       "      border-color: transparent;\n",
       "      border-bottom-color: var(--fill-color);\n",
       "    }\n",
       "  }\n",
       "</style>\n",
       "\n",
       "      <script>\n",
       "        async function quickchart(key) {\n",
       "          const quickchartButtonEl =\n",
       "            document.querySelector('#' + key + ' button');\n",
       "          quickchartButtonEl.disabled = true;  // To prevent multiple clicks.\n",
       "          quickchartButtonEl.classList.add('colab-df-spinner');\n",
       "          try {\n",
       "            const charts = await google.colab.kernel.invokeFunction(\n",
       "                'suggestCharts', [key], {});\n",
       "          } catch (error) {\n",
       "            console.error('Error during call to suggestCharts:', error);\n",
       "          }\n",
       "          quickchartButtonEl.classList.remove('colab-df-spinner');\n",
       "          quickchartButtonEl.classList.add('colab-df-quickchart-complete');\n",
       "        }\n",
       "        (() => {\n",
       "          let quickchartButtonEl =\n",
       "            document.querySelector('#df-fc81d705-992a-4bff-a3f6-f1f66456c37f button');\n",
       "          quickchartButtonEl.style.display =\n",
       "            google.colab.kernel.accessAllowed ? 'block' : 'none';\n",
       "        })();\n",
       "      </script>\n",
       "    </div>\n",
       "\n",
       "    </div>\n",
       "  </div>\n"
      ],
      "text/plain": [
       "   Request id Pickup point  Driver id          Status Request_day  \\\n",
       "0         619      Airport          1  Trip Completed   11/7/2016   \n",
       "1         867      Airport          1  Trip Completed   11/7/2016   \n",
       "2        1807         City          1  Trip Completed   12/7/2016   \n",
       "3        2532      Airport          1  Trip Completed   12/7/2016   \n",
       "4        3112         City          1  Trip Completed    13/07/16   \n",
       "\n",
       "  Request_time   Drop_day Drop_time  \n",
       "0        11:51  11/7/2016      1:00  \n",
       "1         5:57  11/7/2016      6:47  \n",
       "2         9:17  12/7/2016      9:58  \n",
       "3         9:08  12/7/2016     10:03  \n",
       "4         8:33   13/07/16      9:25  "
      ]
     },
     "execution_count": 84,
     "metadata": {},
     "output_type": "execute_result"
    }
   ],
   "source": [
    "df_csv.head()"
   ]
  },
  {
   "cell_type": "markdown",
   "metadata": {
    "id": "IDPYF0t_Alku"
   },
   "source": [
    "### Dataset Rows & Columns count"
   ]
  },
  {
   "cell_type": "code",
   "execution_count": null,
   "metadata": {
    "colab": {
     "base_uri": "https://localhost:8080/"
    },
    "executionInfo": {
     "elapsed": 28,
     "status": "ok",
     "timestamp": 1752079386630,
     "user": {
      "displayName": "Garima Negi",
      "userId": "00608128656584098805"
     },
     "user_tz": -330
    },
    "id": "KkewPpfyAzje",
    "outputId": "e48149dc-4283-4234-96ed-7ac246564954"
   },
   "outputs": [
    {
     "data": {
      "text/plain": [
       "(6745, 8)"
      ]
     },
     "execution_count": 85,
     "metadata": {},
     "output_type": "execute_result"
    }
   ],
   "source": [
    "df_csv.shape"
   ]
  },
  {
   "cell_type": "markdown",
   "metadata": {
    "id": "vZk5vjttAuAJ"
   },
   "source": [
    "### Dataset Information"
   ]
  },
  {
   "cell_type": "code",
   "execution_count": null,
   "metadata": {
    "colab": {
     "base_uri": "https://localhost:8080/"
    },
    "executionInfo": {
     "elapsed": 15,
     "status": "ok",
     "timestamp": 1752079386631,
     "user": {
      "displayName": "Garima Negi",
      "userId": "00608128656584098805"
     },
     "user_tz": -330
    },
    "id": "X1YzB7tDBevu",
    "outputId": "8b441417-93cb-4fab-813f-ac6642c4de49"
   },
   "outputs": [
    {
     "name": "stdout",
     "output_type": "stream",
     "text": [
      "Dataset Info:\n",
      "<class 'pandas.core.frame.DataFrame'>\n",
      "RangeIndex: 6745 entries, 0 to 6744\n",
      "Data columns (total 8 columns):\n",
      " #   Column        Non-Null Count  Dtype \n",
      "---  ------        --------------  ----- \n",
      " 0   Request id    6745 non-null   int64 \n",
      " 1   Pickup point  6745 non-null   object\n",
      " 2   Driver id     6745 non-null   int64 \n",
      " 3   Status        6745 non-null   object\n",
      " 4   Request_day   6745 non-null   object\n",
      " 5   Request_time  6745 non-null   object\n",
      " 6   Drop_day      5481 non-null   object\n",
      " 7   Drop_time     2831 non-null   object\n",
      "dtypes: int64(2), object(6)\n",
      "memory usage: 421.7+ KB\n"
     ]
    }
   ],
   "source": [
    "print(\"Dataset Info:\")\n",
    "df_csv.info()"
   ]
  },
  {
   "cell_type": "markdown",
   "metadata": {
    "id": "TenYqeLNA2FA"
   },
   "source": [
    "#### Duplicate Values"
   ]
  },
  {
   "cell_type": "markdown",
   "metadata": {
    "id": "SgFhIEkGA3BZ"
   },
   "source": [
    "#### Missing Values/Null Values\n"
   ]
  },
  {
   "cell_type": "code",
   "execution_count": null,
   "metadata": {
    "colab": {
     "base_uri": "https://localhost:8080/"
    },
    "executionInfo": {
     "elapsed": 10,
     "status": "ok",
     "timestamp": 1752079386659,
     "user": {
      "displayName": "Garima Negi",
      "userId": "00608128656584098805"
     },
     "user_tz": -330
    },
    "id": "06zyZJiVCFlT",
    "outputId": "2ecc9d9e-255f-4693-9892-0e118ee98957"
   },
   "outputs": [
    {
     "name": "stdout",
     "output_type": "stream",
     "text": [
      "Duplicate Rows:\n",
      "Empty DataFrame\n",
      "Columns: [Request id, Pickup point, Driver id, Status, Request_day, Request_time, Drop_day, Drop_time]\n",
      "Index: []\n",
      "\n",
      "🔢 Number of duplicate rows: 0\n"
     ]
    }
   ],
   "source": [
    "duplicates = df_csv[df_csv.duplicated()]\n",
    "print(\"Duplicate Rows:\")\n",
    "print(duplicates)\n",
    "print(f\"\\n🔢 Number of duplicate rows: {duplicates.shape[0]}\")"
   ]
  },
  {
   "cell_type": "code",
   "execution_count": null,
   "metadata": {
    "colab": {
     "base_uri": "https://localhost:8080/"
    },
    "executionInfo": {
     "elapsed": 9,
     "status": "ok",
     "timestamp": 1752079386695,
     "user": {
      "displayName": "Garima Negi",
      "userId": "00608128656584098805"
     },
     "user_tz": -330
    },
    "id": "lI-TfGZxHU3l",
    "outputId": "b93dd0f0-787b-4e5f-e4ef-59e4a9e74361"
   },
   "outputs": [
    {
     "name": "stdout",
     "output_type": "stream",
     "text": [
      "Null Values in Each Column:\n",
      "Request id         0\n",
      "Pickup point       0\n",
      "Driver id          0\n",
      "Status             0\n",
      "Request_day        0\n",
      "Request_time       0\n",
      "Drop_day        1264\n",
      "Drop_time       3914\n",
      "dtype: int64\n"
     ]
    }
   ],
   "source": [
    "print(\"Null Values in Each Column:\")\n",
    "print(df_csv.isnull().sum())"
   ]
  },
  {
   "cell_type": "code",
   "execution_count": null,
   "metadata": {
    "id": "8YeDVxGaHvf4"
   },
   "outputs": [],
   "source": [
    "import matplotlib.pyplot as plt"
   ]
  },
  {
   "cell_type": "markdown",
   "metadata": {
    "id": "aNzrKxxwBbSG"
   },
   "source": [
    "# Visualizing the missing values\n"
   ]
  },
  {
   "cell_type": "code",
   "execution_count": null,
   "metadata": {
    "colab": {
     "base_uri": "https://localhost:8080/",
     "height": 507
    },
    "executionInfo": {
     "elapsed": 191,
     "status": "ok",
     "timestamp": 1752081679131,
     "user": {
      "displayName": "Garima Negi",
      "userId": "00608128656584098805"
     },
     "user_tz": -330
    },
    "id": "RB6oRgzCI0pS",
    "outputId": "49bdb187-fe69-4e67-83c3-94f6789dbb7b"
   },
   "outputs": [
    {
     "data": {
      "image/png": "[encoded data removed]",
      "text/plain": [
       "<Figure size 500x500 with 1 Axes>"
      ]
     },
     "metadata": {},
     "output_type": "display_data"
    }
   ],
   "source": [
    "missing_counts = df_csv.isnull().sum()\n",
    "missing_counts = missing_counts[missing_counts > 0]\n",
    "plt.figure(figsize=(5, 5))\n",
    "missing_counts.plot(kind='bar', color='salmon')\n",
    "plt.title(\"Missing Values per Column\", fontsize=16)\n",
    "plt.ylabel(\"Count of Missing Values\")\n",
    "plt.xlabel(\"Columns\")\n",
    "plt.xticks(rotation=45)\n",
    "plt.grid(axis='y')\n",
    "plt.tight_layout()\n",
    "plt.show()"
   ]
  },
  {
   "cell_type": "markdown",
   "metadata": {
    "id": "GFiv9MsyBiYA"
   },
   "source": [
    "### What did you know about your dataset?"
   ]
  },
  {
   "cell_type": "markdown",
   "metadata": {
    "id": "JFYD06ucBrzL"
   },
   "source": [
    "The dataset has columns Request id: Unique identifier for each ride request,Timestamp (Date and time of the request),Pickup point (Either \"City\" or \"Airport\"),Status (Trip Completed, Cancelled, or No Cars Available),Driver id.There are total 6745 records.Only 19% of requests were completed,42% were cancelled and 39% had no cars available.Morning (5–10 AM) and Evening (5–9 PM) were peak demand periods.\n",
    "Driver shortage was a major issue during these hours"
   ]
  },
  {
   "cell_type": "markdown",
   "metadata": {
    "id": "MSXV7reqBw9e"
   },
   "source": [
    "## ***2. Understanding Your Variables***"
   ]
  },
  {
   "cell_type": "code",
   "execution_count": null,
   "metadata": {
    "colab": {
     "base_uri": "https://localhost:8080/"
    },
    "executionInfo": {
     "elapsed": 6,
     "status": "ok",
     "timestamp": 1752079386934,
     "user": {
      "displayName": "Garima Negi",
      "userId": "00608128656584098805"
     },
     "user_tz": -330
    },
    "id": "Zz_MDo7ZJqOg",
    "outputId": "6ff7845b-cd88-43a3-86d1-44a036799587"
   },
   "outputs": [
    {
     "name": "stdout",
     "output_type": "stream",
     "text": [
      "Column Names:\n",
      "['Request id', 'Pickup point', 'Driver id', 'Status', 'Request_day', 'Request_time', 'Drop_day', 'Drop_time']\n"
     ]
    }
   ],
   "source": [
    "# Step 4: Display all column names\n",
    "print(\"Column Names:\")\n",
    "print(df_csv.columns.tolist())"
   ]
  },
  {
   "cell_type": "markdown",
   "metadata": {
    "id": "pE2oRUl4CD0m"
   },
   "source": [
    "### Variables Description"
   ]
  },
  {
   "cell_type": "code",
   "execution_count": null,
   "metadata": {
    "colab": {
     "base_uri": "https://localhost:8080/"
    },
    "executionInfo": {
     "elapsed": 71,
     "status": "ok",
     "timestamp": 1752079387006,
     "user": {
      "displayName": "Garima Negi",
      "userId": "00608128656584098805"
     },
     "user_tz": -330
    },
    "id": "nVqPps06J8PG",
    "outputId": "783ecca5-155f-41f7-a80e-284a286e75d5"
   },
   "outputs": [
    {
     "name": "stdout",
     "output_type": "stream",
     "text": [
      "        Request id    Driver id\n",
      "count  6745.000000  6745.000000\n",
      "mean   3384.644922    90.764715\n",
      "std    1955.099667    99.132418\n",
      "min       1.000000     0.000000\n",
      "25%    1691.000000     0.000000\n",
      "50%    3387.000000    53.000000\n",
      "75%    5080.000000   177.000000\n",
      "max    6766.000000   300.000000\n"
     ]
    }
   ],
   "source": [
    "print(df_csv.describe())"
   ]
  },
  {
   "cell_type": "markdown",
   "metadata": {
    "id": "AA6SkgcYCRb7"
   },
   "source": [
    "### Check Unique Values for each variable."
   ]
  },
  {
   "cell_type": "code",
   "execution_count": null,
   "metadata": {
    "colab": {
     "base_uri": "https://localhost:8080/"
    },
    "executionInfo": {
     "elapsed": 24,
     "status": "ok",
     "timestamp": 1752079387007,
     "user": {
      "displayName": "Garima Negi",
      "userId": "00608128656584098805"
     },
     "user_tz": -330
    },
    "id": "tE054E1tKexQ",
    "outputId": "649255bc-0174-472d-9c05-c543fe569fa5"
   },
   "outputs": [
    {
     "name": "stdout",
     "output_type": "stream",
     "text": [
      "Number of Unique Values per Column:\n",
      "Request id      6745\n",
      "Pickup point       2\n",
      "Driver id        301\n",
      "Status             3\n",
      "Request_day        5\n",
      "Request_time    1340\n",
      "Drop_day           7\n",
      "Drop_time       1157\n",
      "dtype: int64\n"
     ]
    }
   ],
   "source": [
    "#Display number of unique values for each column\n",
    "print(\"Number of Unique Values per Column:\")\n",
    "print(df_csv.nunique())"
   ]
  },
  {
   "cell_type": "markdown",
   "metadata": {
    "id": "ItN89-FGCkJm"
   },
   "source": [
    "## 3. ***Data Wrangling***"
   ]
  },
  {
   "cell_type": "code",
   "execution_count": null,
   "metadata": {
    "colab": {
     "base_uri": "https://localhost:8080/"
    },
    "executionInfo": {
     "elapsed": 12,
     "status": "ok",
     "timestamp": 1752079387007,
     "user": {
      "displayName": "Garima Negi",
      "userId": "00608128656584098805"
     },
     "user_tz": -330
    },
    "id": "snoahkktMLDy",
    "outputId": "4a459fb4-331c-47e9-e91b-e3a229ce3aef"
   },
   "outputs": [
    {
     "name": "stdout",
     "output_type": "stream",
     "text": [
      "Original shape: (6745, 8)\n",
      "   Request id Pickup point  Driver id          Status Request_day  \\\n",
      "0         619      Airport          1  Trip Completed   11/7/2016   \n",
      "1         867      Airport          1  Trip Completed   11/7/2016   \n",
      "2        1807         City          1  Trip Completed   12/7/2016   \n",
      "3        2532      Airport          1  Trip Completed   12/7/2016   \n",
      "4        3112         City          1  Trip Completed    13/07/16   \n",
      "\n",
      "  Request_time   Drop_day Drop_time  \n",
      "0        11:51  11/7/2016      1:00  \n",
      "1         5:57  11/7/2016      6:47  \n",
      "2         9:17  12/7/2016      9:58  \n",
      "3         9:08  12/7/2016     10:03  \n",
      "4         8:33   13/07/16      9:25  \n"
     ]
    }
   ],
   "source": [
    "#Data Wrangling\n",
    "print(\"Original shape:\", df_csv.shape)\n",
    "print(df_csv.head())\n",
    "\n",
    "# Standardize column names\n",
    "df_csv.columns = (\n",
    "    df_csv.columns\n",
    "      .str.strip()\n",
    "      .str.lower()\n",
    "      .str.replace(' ', '_')\n",
    "      .str.replace(r'[^\\w]', '', regex=True)\n",
    ")\n"
   ]
  },
  {
   "cell_type": "markdown",
   "metadata": {
    "id": "5C8OUwXECt_m"
   },
   "source": [
    "## ***4. Data Vizualization, Storytelling & Experimenting with charts : Understand the relationships between variables***"
   ]
  },
  {
   "cell_type": "markdown",
   "metadata": {
    "id": "GleRFvCBEX9g"
   },
   "source": [
    "#CHART 1"
   ]
  },
  {
   "cell_type": "code",
   "execution_count": null,
   "metadata": {
    "colab": {
     "base_uri": "https://localhost:8080/",
     "height": 444
    },
    "executionInfo": {
     "elapsed": 148,
     "status": "ok",
     "timestamp": 1752081895879,
     "user": {
      "displayName": "Garima Negi",
      "userId": "00608128656584098805"
     },
     "user_tz": -330
    },
    "id": "Wu9EXYqJOBQC",
    "outputId": "00149def-6007-48cc-bf1a-89ce103162ce"
   },
   "outputs": [
    {
     "data": {
      "image/png": "[encoded data removed]",
      "text/plain": [
       "<Figure size 500x500 with 1 Axes>"
      ]
     },
     "metadata": {},
     "output_type": "display_data"
    }
   ],
   "source": [
    "#Chart 1 Pie Chart\n",
    "\n",
    "status_counts = df_csv['Status'].value_counts()\n",
    "\n",
    "# Plot a pie chart\n",
    "plt.figure(figsize=(5,5))\n",
    "plt.pie(\n",
    "    status_counts.values,\n",
    "    labels=status_counts.index,\n",
    "    autopct='%1.2f%%',\n",
    "    startangle=140,\n",
    "    colors=['lightcoral', 'gold', 'skyblue'],\n",
    "    wedgeprops={'edgecolor': 'black'}\n",
    ")\n",
    "plt.title('Percentage of Trip Status')\n",
    "plt.axis('equal')  # ensures pie is drawn as a circle\n",
    "plt.show()"
   ]
  },
  {
   "cell_type": "markdown",
   "metadata": {
    "id": "og8lyG60DJKt"
   },
   "source": [
    "##### 1. Why did you pick the specific chart?"
   ]
  },
  {
   "cell_type": "markdown",
   "metadata": {
    "id": "OQXYQXrfDJ9u"
   },
   "source": [
    "It shows how each status—Cancelled, No Cars Available, Trip Completed—contributes to the total.One can see that \"Trip Completed\" is the smallest slice, highlighting the core issue."
   ]
  },
  {
   "cell_type": "markdown",
   "metadata": {
    "id": "GfnFOP7jDMHX"
   },
   "source": [
    "##### 2. What is/are the insight(s) found from the chart?"
   ]
  },
  {
   "cell_type": "markdown",
   "metadata": {
    "id": "l0QtomtKDOtV"
   },
   "source": [
    "Only 19% of requests were completed\n",
    "\n",
    "42% were cancelled\n",
    "\n",
    "39% had no cars available"
   ]
  },
  {
   "cell_type": "markdown",
   "metadata": {
    "id": "4jRiotU1De-q"
   },
   "source": [
    "##### 3. Will the gained insights help creating a positive business impact?\n",
    "Are there any insights that lead to negative growth? Justify with specific reason."
   ]
  },
  {
   "cell_type": "markdown",
   "metadata": {
    "id": "-PUv6fGcDh-T"
   },
   "source": [
    "Yes the isights will help in resolving the driver availibity issue."
   ]
  },
  {
   "cell_type": "markdown",
   "metadata": {
    "id": "QFcZ1v3IDlYM"
   },
   "source": [
    "#CHART 2"
   ]
  },
  {
   "cell_type": "code",
   "execution_count": null,
   "metadata": {
    "colab": {
     "base_uri": "https://localhost:8080/",
     "height": 507
    },
    "executionInfo": {
     "elapsed": 298,
     "status": "ok",
     "timestamp": 1752081529481,
     "user": {
      "displayName": "Garima Negi",
      "userId": "00608128656584098805"
     },
     "user_tz": -330
    },
    "id": "dO3GsNUdwOfC",
    "outputId": "b28f627f-8166-4da7-a881-5f9b1546a542"
   },
   "outputs": [
    {
     "data": {
      "image/png": "[encoded data removed]",
      "text/plain": [
       "<Figure size 500x500 with 1 Axes>"
      ]
     },
     "metadata": {},
     "output_type": "display_data"
    }
   ],
   "source": [
    "# chart 2 Line chart\n",
    "import pandas as pd\n",
    "import matplotlib.pyplot as plt\n",
    "\n",
    "#Load dataset\n",
    "df_csv = pd.read_csv('Uber_Request.csv')\n",
    "\n",
    "# Ensure date column is in datetime format, handling mixed formats\n",
    "df_csv['Request_day'] = pd.to_datetime(df_csv['Request_day'], dayfirst=True, format='mixed')\n",
    "\n",
    "# Group by date and count unique drivers\n",
    "drivers_per_day = df_csv.groupby('Request_day')['Driver id'].nunique().reset_index()\n",
    "\n",
    "# Plot line chart\n",
    "plt.figure(figsize=(5, 5))\n",
    "plt.plot(drivers_per_day['Request_day'], drivers_per_day['Driver id'], marker='o', linestyle='-', color='purple')\n",
    "plt.title('Number of Uber Drivers Over Time')\n",
    "plt.xlabel('Date')\n",
    "plt.ylabel('Number of Drivers')\n",
    "plt.grid(True)\n",
    "plt.tight_layout()\n",
    "plt.show()"
   ]
  },
  {
   "cell_type": "markdown",
   "metadata": {
    "id": "UlKS3-LJDs0x"
   },
   "source": [
    "##### 1. Why did you pick the specific chart?"
   ]
  },
  {
   "cell_type": "markdown",
   "metadata": {
    "id": "5TzZLvQRDwyH"
   },
   "source": [
    "It highlights patterns like spikes, dips, or consistency in demand.Line charts are designed for chronological data—perfect for tracking daily or hourly Uber requests.One can easily observe how the number of requests changes over time.\n"
   ]
  },
  {
   "cell_type": "markdown",
   "metadata": {
    "id": "xIsLRBZbD1cj"
   },
   "source": [
    "##### 2. What is/are the insight(s) found from the chart?"
   ]
  },
  {
   "cell_type": "markdown",
   "metadata": {
    "id": "oLn73QtvD4PI"
   },
   "source": [
    "No major spikes or drops, suggesting a steadY Request volume remains relatively stable across the five days, ranging from 1307 to 1381.\n",
    "y demand pattern."
   ]
  },
  {
   "cell_type": "markdown",
   "metadata": {
    "id": "w9WSHnz6EDas"
   },
   "source": [
    "##### 3. Will the gained insights help creating a positive business impact?\n",
    "Are there any insights that lead to negative growth? Justify with specific reason."
   ]
  },
  {
   "cell_type": "markdown",
   "metadata": {
    "id": "dpyhj2GnEIJG"
   },
   "source": [
    "Yes it will help create a positive business impact.Since demand is predictable, Uber could Pre-position drivers in high-demand areas.\n",
    "\n",
    "Offer incentives during peak hours to reduce cancellations and unavailability."
   ]
  },
  {
   "cell_type": "markdown",
   "metadata": {
    "id": "yhq6UVinELXg"
   },
   "source": [
    "#CHART **3**"
   ]
  },
  {
   "cell_type": "markdown",
   "metadata": {
    "id": "Uyz9y516EQpg"
   },
   "source": [
    "#PIE CHART FOR PICKUP POINT VS REQUEST VOLUME\n",
    "\n"
   ]
  },
  {
   "cell_type": "code",
   "execution_count": null,
   "metadata": {
    "colab": {
     "base_uri": "https://localhost:8080/",
     "height": 507
    },
    "executionInfo": {
     "elapsed": 127,
     "status": "ok",
     "timestamp": 1752079715649,
     "user": {
      "displayName": "Garima Negi",
      "userId": "00608128656584098805"
     },
     "user_tz": -330
    },
    "id": "xnrEofppFiWO",
    "outputId": "b5a9b5a7-1245-41c4-80cf-1f0f4323c3cd"
   },
   "outputs": [
    {
     "data": {
      "image/png": "[encoded data removed]",
      "text/plain": [
       "<Figure size 500x500 with 1 Axes>"
      ]
     },
     "metadata": {},
     "output_type": "display_data"
    }
   ],
   "source": [
    "pickup_counts = df_csv['Pickup point'].value_counts()\n",
    "\n",
    "# Create pie chart\n",
    "plt.figure(figsize=(5, 5))\n",
    "plt.pie(pickup_counts, labels=pickup_counts.index, autopct='%1.1f%%', startangle=140)\n",
    "plt.title('Request Volume by Pickup Point')\n",
    "plt.axis('equal')  # Ensures pie chart is a perfect circle\n",
    "plt.tight_layout()\n",
    "plt.show()"
   ]
  },
  {
   "cell_type": "markdown",
   "metadata": {
    "id": "dGnYZu1rFwcq"
   },
   "source": [
    "##### 1. Why did you pick the specific chart?"
   ]
  },
  {
   "cell_type": "markdown",
   "metadata": {
    "id": "AjyRQo59F083"
   },
   "source": [
    "To show the distribution of request numbers between airport and City"
   ]
  },
  {
   "cell_type": "markdown",
   "metadata": {
    "id": "oguOgWkOGCCQ"
   },
   "source": [
    "##### 2. What is/are the insight(s) found from the chart?"
   ]
  },
  {
   "cell_type": "markdown",
   "metadata": {
    "id": "KYcrtVGjGE1w"
   },
   "source": [
    "The largest slice of the pie will highlight which pickup point receives the highest volume of requests.Here it is the Airport, indicating peak customer activity or transit-based demand.\n",
    "Smaller slices point to underutilized pickup points such as Suburbs or quieter areas. These zones might benefit from marketing efforts or service optimization."
   ]
  },
  {
   "cell_type": "markdown",
   "metadata": {
    "id": "WKlcyu33GjZj"
   },
   "source": [
    "##### 3. Will the gained insights help creating a positive business impact?Are there any insights that lead to negative growth? Justify with specific reason.\n"
   ]
  },
  {
   "cell_type": "markdown",
   "metadata": {
    "id": "DthSFsiQGuWC"
   },
   "source": [
    "High-demand pickup points i.e Airport dominate request volume.\n",
    "Deploying more drivers strategically in these areas can minimize wait times, reduce cancellations, and boost customer satisfaction.\n",
    "Matching supply to demand leads to smoother operations and higher revenue per ride.Certain areas show growing request trends over time.\n",
    "\n",
    "Investing in those zones with improved coverage or partnerships (e.g., local malls or transit hubs) can lead to long-term growth.\n",
    "\n",
    "Data-driven expansion ensures that resources aren’t wasted and aligns with market behavior.\n"
   ]
  },
  {
   "cell_type": "markdown",
   "metadata": {
    "id": "Szey8ForHcDp"
   },
   "source": [
    "#CHART 4"
   ]
  },
  {
   "cell_type": "markdown",
   "metadata": {
    "id": "MABLRHqZHd2u"
   },
   "source": [
    "#Histogram Chart"
   ]
  },
  {
   "cell_type": "code",
   "execution_count": null,
   "metadata": {
    "colab": {
     "base_uri": "https://localhost:8080/",
     "height": 507
    },
    "executionInfo": {
     "elapsed": 307,
     "status": "ok",
     "timestamp": 1752081545852,
     "user": {
      "displayName": "Garima Negi",
      "userId": "00608128656584098805"
     },
     "user_tz": -330
    },
    "id": "bSVnwLGFIBno",
    "outputId": "ca8e65d0-174a-4472-9ece-42e41016cf8e"
   },
   "outputs": [
    {
     "data": {
      "image/png": "[encoded data removed]",
      "text/plain": [
       "<Figure size 500x500 with 1 Axes>"
      ]
     },
     "metadata": {},
     "output_type": "display_data"
    }
   ],
   "source": [
    "plt.figure(figsize=(5, 5))\n",
    "plt.hist(df_csv['Driver id'], bins=30, edgecolor='black', color='skyblue')\n",
    "plt.title('Distribution of Driver IDs')\n",
    "plt.xlabel('Driver ID')\n",
    "plt.ylabel('Number of Requests')\n",
    "plt.grid(True)\n",
    "plt.tight_layout()\n",
    "plt.show()"
   ]
  },
  {
   "cell_type": "markdown",
   "metadata": {
    "id": "ODQwk-LNIZ1E"
   },
   "source": [
    "##### 1. Why did you pick the specific chart?"
   ]
  },
  {
   "cell_type": "markdown",
   "metadata": {
    "id": "enHV2lpnIaw1"
   },
   "source": [
    "Histogram shows frequency Distribution.It shows how often each driver appears in the dataset.\n",
    "Wecan see patterns like whether a few drivers handled most requests or workload was evenly spread.\n",
    "We can also Spot Unassigned Requests\n",
    "\n",
    "If Driver id = 0 indicates no driver assigned, the histogram will visually highlight that gap."
   ]
  },
  {
   "cell_type": "markdown",
   "metadata": {
    "id": "aBpUHU12JE8t"
   },
   "source": [
    "##### 2. What is/are the insight(s) found from the chart?\n"
   ]
  },
  {
   "cell_type": "markdown",
   "metadata": {
    "id": "2YqpwmA9JJka"
   },
   "source": [
    "From the histogram of Driver id values we see that large number of requests were either unassigned (Driver id = 0) or clustered among low ID ranges.\n",
    "\n",
    "Most drivers handled relatively few requests, indicating a wide but shallow distribution.\n",
    "\n",
    "A few driver IDs show high request volumes, possibly pointing to top-performing or over-utilized drivers.\n",
    "\n",
    "The spread reveals uneven workload distribution across drivers.\n",
    "\n",
    "This imbalance could signal inefficiencies in driver assignment or opportunities for load balancing.\n",
    "\n"
   ]
  },
  {
   "cell_type": "markdown",
   "metadata": {
    "id": "PsrNOWDIJn4y"
   },
   "source": [
    "##### 3. Will the gained insights help creating a positive business impact?\n",
    "Are there any insights that lead to negative growth? Justify with specific reason."
   ]
  },
  {
   "cell_type": "markdown",
   "metadata": {
    "id": "EYBKLFkTJsXy"
   },
   "source": [
    "Yes,knowing which drivers are overutilized or underused helps balance workloads and improve operational efficiency.Over-reliance on a small pool of active drivers may lead to burnout or service bottlenecks. Unassigned requests (Driver ID = 0) indicate missed opportunities and can negatively impact customer satisfaction. Addressing these issues promptly ensures smoother ride allocation and a more scalable business model."
   ]
  },
  {
   "cell_type": "markdown",
   "metadata": {
    "id": "L892c6HUJoBI"
   },
   "source": [
    "#CHART 5"
   ]
  },
  {
   "cell_type": "markdown",
   "metadata": {
    "id": "Ya8lz_xaKEf7"
   },
   "source": [
    "#Box plot"
   ]
  },
  {
   "cell_type": "code",
   "execution_count": null,
   "metadata": {
    "colab": {
     "base_uri": "https://localhost:8080/",
     "height": 507
    },
    "executionInfo": {
     "elapsed": 134,
     "status": "ok",
     "timestamp": 1752081066763,
     "user": {
      "displayName": "Garima Negi",
      "userId": "00608128656584098805"
     },
     "user_tz": -330
    },
    "id": "sx6umOc5KXwY",
    "outputId": "b51cfde9-65c3-4270-844d-099123b805d5"
   },
   "outputs": [
    {
     "data": {
      "image/png": "[encoded data removed]",
      "text/plain": [
       "<Figure size 500x500 with 1 Axes>"
      ]
     },
     "metadata": {},
     "output_type": "display_data"
    }
   ],
   "source": [
    "#Create box plot for Driver ID\n",
    "import seaborn as sns\n",
    "plt.figure(figsize=(5, 5))\n",
    "sns.boxplot(x=df_csv['Driver id'], color='lightgreen')\n",
    "plt.title('Distribution of Driver IDs')\n",
    "plt.xlabel('Driver ID')\n",
    "plt.grid(True)\n",
    "plt.tight_layout()\n",
    "plt.show()"
   ]
  },
  {
   "cell_type": "markdown",
   "metadata": {
    "id": "zr2qMzwFK4W6"
   },
   "source": [
    "##### 1. Why did you pick the specific chart?"
   ]
  },
  {
   "cell_type": "markdown",
   "metadata": {
    "id": "F-eIiB0mK71I"
   },
   "source": [
    "A box plot highlights the spread, central tendency, and outliers in driver activity, all in one concise visual. It reveals whether most drivers are consistently assigned or if there's high variability in usage. Extreme values like Driver id = 0 or unusually high IDs stand out, helping spot assignment issues. This chart simplifies complex distribution patterns into actionable insights for operational planning."
   ]
  },
  {
   "cell_type": "markdown",
   "metadata": {
    "id": "GdXcusNiLJd4"
   },
   "source": [
    "##### 2. What is/are the insight(s) found from the chart?"
   ]
  },
  {
   "cell_type": "markdown",
   "metadata": {
    "id": "uzYoVUxQLLqh"
   },
   "source": [
    "We found that Driver id values most driver assignments are concentrated in a lower range,frequent use of specific drivers.\n",
    "\n",
    "The median lies well below the maximum, showing uneven distribution of driver workload.Multiple outliers suggest some drivers handled exceptionally high numbers of requests.\n",
    "Presence of Driver id = 0 implies unassigned or canceled rides, pointing to operational inefficiencies.\n",
    "The interquartile range (IQR) is wide, indicating variability in assignment practices.\n",
    "Overall, the data suggests inconsistent driver utilization, ripe for optimization.\n",
    "\n"
   ]
  },
  {
   "cell_type": "markdown",
   "metadata": {
    "id": "wsv1xJn5Lj4c"
   },
   "source": [
    "##### 3. Will the gained insights help creating a positive business impact?\n",
    "Are there any insights that lead to negative growth? Justify with specific reason."
   ]
  },
  {
   "cell_type": "markdown",
   "metadata": {
    "id": "60gKGYxdLm4J"
   },
   "source": [
    "Yes,understanding driver utilization patterns from the box plot enables smarter workload distribution and better staffing decisions. Identifying underused drivers can help optimize scheduling, increasing ride fulfillment and boosting overall efficiency. However, the presence of Driver id = 0 suggests unassigned or failed requests, which may hurt customer satisfaction and revenue. Outliers with excessive assignments could lead to driver fatigue or burnout if left unchecked. Without timely intervention, skewed driver usage may create long-term operational strain and service inconsistencies."
   ]
  },
  {
   "cell_type": "markdown",
   "metadata": {
    "id": "dz-g5EOSMxYe"
   },
   "source": [
    "## **5. Solution to Business Objective**"
   ]
  },
  {
   "cell_type": "markdown",
   "metadata": {
    "id": "hApjdwm3M2Zc"
   },
   "source": [
    "#### What do you suggest the client to achieve Business Objective ?\n"
   ]
  },
  {
   "cell_type": "markdown",
   "metadata": {
    "id": "QQZSUIPGM4_x"
   },
   "source": [
    "1.Maximize trip completions by minimizing cancellations and \"No Cars Available\" incidents, especially during peak hours.\n",
    "2.Pre-position drivers in high-demand areas (e.g., airport during early mornings).This will reduce \"No Cars Available\" cases and improves rider satisfaction.\n",
    "3.Offer surge pricing or bonuses for drivers during high-demand periods.Reduces cancellations and increases driver availability."
   ]
  },
  {
   "cell_type": "markdown",
   "metadata": {
    "id": "V8Piyu1dM86L"
   },
   "source": [
    "# **Conclusion**"
   ]
  },
  {
   "cell_type": "markdown",
   "metadata": {
    "id": "Vd_Y144FNAxj"
   },
   "source": [
    "The analysis of the Uber supply-demand gap reveals a significant operational challenge: while rider demand remains steady, only a small fraction of requests are successfully completed. The majority fail due to cancellations and driver unavailability, especially during peak hours. By leveraging data-driven strategies—such as dynamic driver allocation, targeted incentives, and demand forecasting—Uber can significantly reduce service failures, improve customer satisfaction, and optimize resource utilization. Addressing these gaps is essential for achieving operational efficiency and sustaining growth in a competitive ride-hailing market."
   ]
  }
 ],
 "metadata": {
  "colab": {
   "authorship_tag": "ABX9TyM4n8jjFOk6z/hNTzEtT7Ou",
   "provenance": [
    {
     "file_id": "1G8ZBzpewzNKRFzvcQ-XLqhZ2eia5XpwH",
     "timestamp": 1752145578180
    }
   ]
  },
  "kernelspec": {
   "display_name": "Python 3",
   "name": "python3"
  },
  "language_info": {
   "name": "python"
  }
 },
 "nbformat": 4,
 "nbformat_minor": 0
}
